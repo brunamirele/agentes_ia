{
  "nbformat": 4,
  "nbformat_minor": 0,
  "metadata": {
    "colab": {
      "provenance": []
    },
    "kernelspec": {
      "name": "python3",
      "display_name": "Python 3"
    },
    "language_info": {
      "name": "python"
    }
  },
  "cells": [
    {
      "cell_type": "code",
      "source": [
        "%pip -q install google-genai"
      ],
      "metadata": {
        "id": "UCCbECexLk_h"
      },
      "execution_count": null,
      "outputs": []
    },
    {
      "cell_type": "code",
      "source": [
        "# Configura a API Key do Google Gemini\n",
        "import os\n",
        "from google.colab import userdata\n",
        "\n",
        "os.environ[\"GOOGLE_API_KEY\"] = userdata.get('GOOGLE_API_KEY')"
      ],
      "metadata": {
        "id": "NfCqHo1tLk8P"
      },
      "execution_count": null,
      "outputs": []
    },
    {
      "cell_type": "code",
      "source": [
        "# Configura o cliente da SDK do Gemini\n",
        "from google import genai\n",
        "client = genai.Client()\n",
        "MODEL_ID = \"gemini-1.5-flash\""
      ],
      "metadata": {
        "id": "bV4w0H5TLk5g"
      },
      "execution_count": null,
      "outputs": []
    },
    {
      "cell_type": "code",
      "source": [
        "# Importações para checkboxes de notícias\n",
        "import ipywidgets as widgets\n",
        "from IPython.display import display, Markdown, HTML\n",
        "from datetime import date"
      ],
      "metadata": {
        "id": "-WL8MCKNSV0P"
      },
      "execution_count": null,
      "outputs": []
    },
    {
      "cell_type": "code",
      "source": [
        "# Instalar Framework ADK de agentes do Google ################################################\n",
        "!pip install -q google-adk"
      ],
      "metadata": {
        "id": "hvZ3UnPI4jhJ",
        "colab": {
          "base_uri": "https://localhost:8080/"
        },
        "outputId": "f153a52d-76e2-4194-9240-5ed0dfa03b14"
      },
      "execution_count": null,
      "outputs": [
        {
          "output_type": "stream",
          "name": "stdout",
          "text": [
            "\u001b[?25l   \u001b[90m━━━━━━━━━━━━━━━━━━━━━━━━━━━━━━━━━━━━━━━━\u001b[0m \u001b[32m0.0/1.2 MB\u001b[0m \u001b[31m?\u001b[0m eta \u001b[36m-:--:--\u001b[0m\r\u001b[2K   \u001b[91m━━━━━━━━━━━━━━━━━━━━━━━━━━━━━━━━━━━━━━━\u001b[0m\u001b[91m╸\u001b[0m \u001b[32m1.2/1.2 MB\u001b[0m \u001b[31m38.4 MB/s\u001b[0m eta \u001b[36m0:00:01\u001b[0m\r\u001b[2K   \u001b[90m━━━━━━━━━━━━━━━━━━━━━━━━━━━━━━━━━━━━━━━━\u001b[0m \u001b[32m1.2/1.2 MB\u001b[0m \u001b[31m25.6 MB/s\u001b[0m eta \u001b[36m0:00:00\u001b[0m\n",
            "\u001b[?25h\u001b[?25l   \u001b[90m━━━━━━━━━━━━━━━━━━━━━━━━━━━━━━━━━━━━━━━━\u001b[0m \u001b[32m0.0/232.1 kB\u001b[0m \u001b[31m?\u001b[0m eta \u001b[36m-:--:--\u001b[0m\r\u001b[2K   \u001b[90m━━━━━━━━━━━━━━━━━━━━━━━━━━━━━━━━━━━━━━━━\u001b[0m \u001b[32m232.1/232.1 kB\u001b[0m \u001b[31m19.1 MB/s\u001b[0m eta \u001b[36m0:00:00\u001b[0m\n",
            "\u001b[?25h\u001b[?25l   \u001b[90m━━━━━━━━━━━━━━━━━━━━━━━━━━━━━━━━━━━━━━━━\u001b[0m \u001b[32m0.0/95.2 kB\u001b[0m \u001b[31m?\u001b[0m eta \u001b[36m-:--:--\u001b[0m\r\u001b[2K   \u001b[90m━━━━━━━━━━━━━━━━━━━━━━━━━━━━━━━━━━━━━━━━\u001b[0m \u001b[32m95.2/95.2 kB\u001b[0m \u001b[31m7.7 MB/s\u001b[0m eta \u001b[36m0:00:00\u001b[0m\n",
            "\u001b[?25h\u001b[?25l   \u001b[90m━━━━━━━━━━━━━━━━━━━━━━━━━━━━━━━━━━━━━━━━\u001b[0m \u001b[32m0.0/217.1 kB\u001b[0m \u001b[31m?\u001b[0m eta \u001b[36m-:--:--\u001b[0m\r\u001b[2K   \u001b[90m━━━━━━━━━━━━━━━━━━━━━━━━━━━━━━━━━━━━━━━━\u001b[0m \u001b[32m217.1/217.1 kB\u001b[0m \u001b[31m18.5 MB/s\u001b[0m eta \u001b[36m0:00:00\u001b[0m\n",
            "\u001b[2K   \u001b[90m━━━━━━━━━━━━━━━━━━━━━━━━━━━━━━━━━━━━━━━━\u001b[0m \u001b[32m334.1/334.1 kB\u001b[0m \u001b[31m28.4 MB/s\u001b[0m eta \u001b[36m0:00:00\u001b[0m\n",
            "\u001b[2K   \u001b[90m━━━━━━━━━━━━━━━━━━━━━━━━━━━━━━━━━━━━━━━━\u001b[0m \u001b[32m125.1/125.1 kB\u001b[0m \u001b[31m11.2 MB/s\u001b[0m eta \u001b[36m0:00:00\u001b[0m\n",
            "\u001b[2K   \u001b[90m━━━━━━━━━━━━━━━━━━━━━━━━━━━━━━━━━━━━━━━━\u001b[0m \u001b[32m65.8/65.8 kB\u001b[0m \u001b[31m5.9 MB/s\u001b[0m eta \u001b[36m0:00:00\u001b[0m\n",
            "\u001b[2K   \u001b[90m━━━━━━━━━━━━━━━━━━━━━━━━━━━━━━━━━━━━━━━━\u001b[0m \u001b[32m119.0/119.0 kB\u001b[0m \u001b[31m11.2 MB/s\u001b[0m eta \u001b[36m0:00:00\u001b[0m\n",
            "\u001b[2K   \u001b[90m━━━━━━━━━━━━━━━━━━━━━━━━━━━━━━━━━━━━━━━━\u001b[0m \u001b[32m194.9/194.9 kB\u001b[0m \u001b[31m18.5 MB/s\u001b[0m eta \u001b[36m0:00:00\u001b[0m\n",
            "\u001b[2K   \u001b[90m━━━━━━━━━━━━━━━━━━━━━━━━━━━━━━━━━━━━━━━━\u001b[0m \u001b[32m62.5/62.5 kB\u001b[0m \u001b[31m5.2 MB/s\u001b[0m eta \u001b[36m0:00:00\u001b[0m\n",
            "\u001b[2K   \u001b[90m━━━━━━━━━━━━━━━━━━━━━━━━━━━━━━━━━━━━━━━━\u001b[0m \u001b[32m103.3/103.3 kB\u001b[0m \u001b[31m10.3 MB/s\u001b[0m eta \u001b[36m0:00:00\u001b[0m\n",
            "\u001b[2K   \u001b[90m━━━━━━━━━━━━━━━━━━━━━━━━━━━━━━━━━━━━━━━━\u001b[0m \u001b[32m44.4/44.4 kB\u001b[0m \u001b[31m4.1 MB/s\u001b[0m eta \u001b[36m0:00:00\u001b[0m\n",
            "\u001b[2K   \u001b[90m━━━━━━━━━━━━━━━━━━━━━━━━━━━━━━━━━━━━━━━━\u001b[0m \u001b[32m72.0/72.0 kB\u001b[0m \u001b[31m7.4 MB/s\u001b[0m eta \u001b[36m0:00:00\u001b[0m\n",
            "\u001b[?25h"
          ]
        }
      ]
    },
    {
      "cell_type": "code",
      "execution_count": null,
      "metadata": {
        "id": "aePV2bdfDeoW"
      },
      "outputs": [],
      "source": [
        "from google.adk.agents import Agent\n",
        "from google.adk.runners import Runner\n",
        "from google.adk.sessions import InMemorySessionService\n",
        "from google.adk.tools import google_search\n",
        "from google.genai import types  # Para criar conteúdos (Content e Part)\n",
        "from datetime import date\n",
        "import textwrap # Para formatar melhor a saída de texto\n",
        "from IPython.display import display, Markdown # Para exibir texto formatado no Colab\n",
        "import requests # Para fazer requisições HTTP\n",
        "import warnings\n",
        "\n",
        "warnings.filterwarnings(\"ignore\")"
      ]
    },
    {
      "cell_type": "code",
      "source": [
        "import json"
      ],
      "metadata": {
        "id": "Q7fz4aQcfk8h"
      },
      "execution_count": null,
      "outputs": []
    },
    {
      "cell_type": "code",
      "source": [
        "# Função auxiliar que envia uma mensagem para um agente via Runner e retorna a resposta final\n",
        "def call_agent(agent: Agent, message_text: str) -> str:\n",
        "    # Cria um serviço de sessão em memória\n",
        "    session_service = InMemorySessionService()\n",
        "    # Cria uma nova sessão (você pode personalizar os IDs conforme necessário)\n",
        "    session = session_service.create_session(app_name=agent.name, user_id=\"user1\", session_id=\"session1\")\n",
        "    # Cria um Runner para o agente\n",
        "    runner = Runner(agent=agent, app_name=agent.name, session_service=session_service)\n",
        "    # Cria o conteúdo da mensagem de entrada\n",
        "    content = types.Content(role=\"user\", parts=[types.Part(text=message_text)])\n",
        "\n",
        "    final_response = \"\"\n",
        "    # Itera assincronamente pelos eventos retornados durante a execução do agente\n",
        "    for event in runner.run(user_id=\"user1\", session_id=\"session1\", new_message=content):\n",
        "        if event.is_final_response():\n",
        "          for part in event.content.parts:\n",
        "            if part.text is not None:\n",
        "              final_response += part.text\n",
        "              final_response += \"\\n\"\n",
        "    return final_response"
      ],
      "metadata": {
        "id": "_xP4lWhsS5ko"
      },
      "execution_count": null,
      "outputs": []
    },
    {
      "cell_type": "code",
      "source": [
        "##########################################\n",
        "# --- Agente 1: Buscador de Notícias --- #\n",
        "##########################################\n",
        "def agente_buscador(topico, noticas_procuradas):\n",
        "    buscador = Agent(\n",
        "        name=\"agente_buscador\",\n",
        "        model=\"gemini-2.0-flash\",\n",
        "        # Inserir as instruções do Agente buscador #################################################\n",
        "        instruction=\"\"\"\n",
        "          Você é um agente buscador de notícias no Google. Sua tarefa é usar a ferramenta de busca do Google (google_seacrh) para recuperar as últimas notícias relevantes sobre o tópico abaixo.\n",
        "          Foque em no máximo 6 notícias relevantes (de portais confiáveis, como Valor Econômico, CNN Brasil, G1) das últimas 24 horas. As notícias devem ser atuais, de no máximo 24h antes do dia e hora de agora.\n",
        "          Você deve retornar sua resposta ESTRUTURADA no seguinte formato JSON:\n",
        "          [\n",
        "            {\n",
        "              \"titulo\": \"Título da notícia\",\n",
        "              \"portal\": \"Nome do portal\",\n",
        "              \"url\": \"URL limpa e acessível diretamente no navegador, sem redirecionadores\"\n",
        "              \"resumo\": \"Resumo breve da notícia - apenas 1 frase\"\n",
        "            },\n",
        "            ...\n",
        "          ]\n",
        "        ⚠️ Importante:\n",
        "        - Não use formatação Markdown.\n",
        "        - Não use negrito, listas numeradas ou bullet points.\n",
        "        - Retorne apenas o JSON puro.\n",
        "        - Nunca use links de redirecionamento (como vertexaisearch.cloud.google.com). Sempre prefira o link direto do site da notícia.\n",
        "        \"\"\",\n",
        "        description=\"Agente que busca notícias no Google\",\n",
        "        tools=[google_search]\n",
        "    )\n",
        "\n",
        "    entrada_do_agente_buscador = f\"Tópico:{topico}\\nNotícias buscadas: {noticas_procuradas}\"\n",
        "\n",
        "    # Executa o agente\n",
        "    noticias_buscadas = call_agent(buscador, entrada_do_agente_buscador)\n",
        "    return noticias_buscadas"
      ],
      "metadata": {
        "id": "o8bqIfi_DyH8"
      },
      "execution_count": null,
      "outputs": []
    },
    {
      "cell_type": "code",
      "source": [
        "######################################\n",
        "# --- Agente 2: Resumidor de notícia --- #\n",
        "######################################\n",
        "def agente_resumidor(topico, resumos_feitos):\n",
        "    resumidor = Agent(\n",
        "        name=\"agente_resumidor\",\n",
        "        model=\"gemini-2.0-flash\",\n",
        "        instruction=\"\"\"\n",
        "            Você é um assistente que resume cada notícia em um parágrafo fluido e coerente entre 5 a 7 linhas.\n",
        "            Destaque os principais fatos, nomes e datas, com linguagem empresarial e foque apenas no conteúdo da notícia selecionada, sem dar opiniões.\n",
        "            A saída deve ser:\n",
        "            Título da notícia, em negrito;\n",
        "            Link da notícia;\n",
        "            Resumo da notícia.\n",
        "          \"\"\",\n",
        "        description=\"Agente resumidor de notícias\"\n",
        "    )\n",
        "    entrada_do_agente_resumidor = f\"Tópico: {topico}\\nResumo: {resumos_feitos}\"\n",
        "    # Executa o agente\n",
        "    resumo = call_agent(resumidor, entrada_do_agente_resumidor)\n",
        "    return resumo"
      ],
      "metadata": {
        "id": "uOqlg2TRLVh1"
      },
      "execution_count": null,
      "outputs": []
    },
    {
      "cell_type": "code",
      "source": [
        "# Função utilitária para formatar as notícias em markdown\n",
        "def to_markdown(noticias):\n",
        "    if isinstance(noticias, str):\n",
        "        return Markdown(noticias)\n",
        "    elif isinstance(noticias, list):\n",
        "        texto = \"\\n\\n\".join(\n",
        "            f\"**{n.get('titulo', 'Sem título')}**\\n{n.get('url', 'Sem URL')}\" for n in noticias\n",
        "        )\n",
        "        return Markdown(texto)\n",
        "    else:\n",
        "        return Markdown(\"Formato de notícia não reconhecido.\")"
      ],
      "metadata": {
        "id": "ppzpLGNKSjSG"
      },
      "execution_count": null,
      "outputs": []
    },
    {
      "cell_type": "code",
      "source": [
        "# Função para exibir checkboxes e capturar os selecionados\n",
        "def selecionar_noticias(noticias):\n",
        "    checkboxes = []\n",
        "    linhas_widgets = []\n",
        "\n",
        "    for noticia in noticias:\n",
        "        titulo = noticia.get('titulo', 'Sem título')\n",
        "        portal = noticia.get('portal', 'Fonte desconhecida')\n",
        "        resumo = noticia.get('resumo', 'Sem resumo.')\n",
        "\n",
        "        # Checkbox com descrição simples\n",
        "        cb = widgets.Checkbox(\n",
        "            value=False,\n",
        "            description='',\n",
        "            indent=False,\n",
        "            layout=widgets.Layout(width='20px')\n",
        "        )\n",
        "        cb.noticia = noticia\n",
        "        checkboxes.append(cb)\n",
        "\n",
        "        # Widget de título + portal\n",
        "        titulo_html = widgets.HTML(\n",
        "            f\"<b>{titulo}</b> <span style='color:gray;'>({portal})</span>\"\n",
        "        )\n",
        "\n",
        "        # Widget de resumo indentado\n",
        "        resumo_html = widgets.HTML(\n",
        "            f\"<div style='margin-left:6px; color:#444; font-style:italic;'>{resumo}</div>\"\n",
        "        )\n",
        "\n",
        "        # Agrupa visualmente os elementos\n",
        "        linha = widgets.HBox([cb, widgets.VBox([titulo_html, resumo_html])], layout=widgets.Layout(align_items='flex-start', gap='6px'))\n",
        "        linhas_widgets.append(linha)\n",
        "\n",
        "    # Botão para confirmar\n",
        "    botao = widgets.Button(description=\"Confirmar seleção\")\n",
        "    output = widgets.Output()\n",
        "\n",
        "    def on_click(_):\n",
        "        selecionadas = [cb.noticia for cb in checkboxes if cb.value]\n",
        "        with output:\n",
        "            output.clear_output()\n",
        "            if selecionadas:\n",
        "                print(\"✅ Notícias selecionadas. Gerando resumo...\")\n",
        "                #resumo = agente_resumidor(topico, selecionadas)\n",
        "                # Transforma a lista em string formatada para o agente\n",
        "                noticias_em_texto = \"\"\n",
        "                for n in selecionadas:\n",
        "                    noticias_em_texto += f\"Título: {n.get('titulo')}\\nFonte: {n.get('portal')}\\nURL: {n.get('url')}\\n\\n\"\n",
        "                resumo = agente_resumidor(topico, noticias_em_texto)\n",
        "                display(Markdown(\"### 📝 RESUMO DAS NOTÍCIAS SELECIONADAS\"))\n",
        "                display(to_markdown(resumo))\n",
        "            else:\n",
        "                print(\"⚠️ Nenhuma notícia selecionada.\")\n",
        "\n",
        "    botao.on_click(on_click)\n",
        "\n",
        "    print(\"🗞️ Marque abaixo as notícias mais relevantes para serem resumidas:\\n\")\n",
        "    display(widgets.VBox(linhas_widgets))\n",
        "    display(botao, output)"
      ],
      "metadata": {
        "id": "E3wEBIJGkCA7"
      },
      "execution_count": null,
      "outputs": []
    },
    {
      "cell_type": "code",
      "source": [
        "# Execução da pipeline\n",
        "data_de_hoje = date.today().strftime('%d/%m/%Y %H:%M')\n",
        "\n",
        "print(\"🚀 Iniciando o Sistema de Resumo de Notícias para Radar com 2 Agentes 🚀\")\n",
        "\n",
        "topico = input(\"❓ Por favor, digite o TEMA sobre o qual você quer criar o resumo de notícias: \")\n",
        "\n",
        "if not topico:\n",
        "    print(\"Digite um tema\")\n",
        "else:\n",
        "    print(f\"🔎 Buscando notícias sobre: **{topico}**\")\n",
        "    noticias = agente_buscador(topico, data_de_hoje)\n",
        "    if isinstance(noticias, str):\n",
        "      # Remove bloco de código Markdown, se houver\n",
        "      noticias = noticias.strip().strip(\"```json\").strip(\"```\").strip()\n",
        "      noticias = json.loads(noticias)\n",
        "\n",
        "    print(\"\\n--- SELECIONE AS NOTÍCIAS RELEVANTES ---\\n\")\n",
        "    selecionar_noticias(noticias)"
      ],
      "metadata": {
        "colab": {
          "base_uri": "https://localhost:8080/",
          "height": 939,
          "referenced_widgets": [
            "e31835715e3841d289fb923aaeb10755",
            "6b89407f9dbf4c09a634a19521ade1a8",
            "71b7a1e933634414bfe84f942cb6b9dd",
            "31ab8361af7a44238f73ec05c3fe06cd",
            "678ba870505c457f9bb84ecd1ac90178",
            "fdd42a37a5bd458e847be49df387a345",
            "c2a73640281a4f8b97057005260ef019",
            "a97752cd70b94e3eb1bf90fc61f6064b",
            "3bae0c458c2c4067aba50fd0be84af1b",
            "eebfadd1ed3b46a9957a360f67afff76",
            "7376c405602249f4bd910168cda33d3c",
            "061c99ae5b284412aa290e61e8646f87",
            "df32ffa4a7c6488aa841dc37ce551b93",
            "29c7a51aec2a4e7cb67fe955e9f68247",
            "9cb84c27ae1a4d379c9cbbb7f2644d4f",
            "c5f7b5b0613a46788dea6cc56674a0c7",
            "00b323fe92264876b0dd23057e100c45",
            "edb5a41fc116497aa25183518c6b942f",
            "ef22a0e872cb4f699c0705ecbf887f94",
            "410ae580d3784ae1abb629a9df3fb957",
            "6ede05f654ee464ca982e11addb11a60",
            "737ed3e80a024698864327549947c9fb",
            "f40589555a7f4eadbcac656bf6925d8f",
            "85d95acd9dd4408bbcc63a81442182d8",
            "86fa2606c5ed49e7a27f8b5949567bad",
            "613fc2901a224f5986e123f6204d9dd1",
            "87bdeb1844a1408dbb2ff88936fa5438",
            "ce7ad592d1074f208bb04b8b0698d32a",
            "8308ce70b3c744a08cc59e8f9b3b1393",
            "6f47090886774d2fbf2b7d4ac327bc32",
            "42704d1c69c645fda4d89d304a6d3fda",
            "78c93845b3c2478eaacc60c3fe3655f6",
            "245c50c8d103429599b0427c4c38dac0",
            "3518c3af094449adb00d31cc70f11483",
            "ec7f09d00f49418cb5dfe330a0dd7673",
            "eb0a4ff887024320b2d7061b7ca78c8c",
            "774e1e9b54e04442a2370328fa8acc47",
            "c3f8dee5665749c4a81b667169e2c4f3",
            "77118cd97ca340adb3dd925cfd8b20e1",
            "f3d0fe400f1c45eea14e3243dcd58f87",
            "564d2e4686f44036ae119a1b955ccbcf",
            "378f4b185bb24e0baa41d1cbb955fbb5",
            "5004e71611754aad9401088f4f6d7ba3",
            "a634307b8902478c9b5b4ed51ec941db",
            "6bdb174e37c34618bf57d9b21506cdbf",
            "9963451271c0424ab36356dc0b1babc6",
            "7820963875264cd49265326a1c54a815",
            "d275a2644993470e99960a348689accd",
            "cc9ae4527afd4991a0597ed437e0da3d",
            "2f260d63fe914dc2968f43ebbf370e7f",
            "903ffd408e3f4fd58a2dcc8456c6ab8a",
            "442f020f6df54596a5a999c7ab6451f8",
            "4b94f48a444a41b5b854497f52b1c4b4",
            "3b3ab82fe69e4909a64e95ccd3c327fe",
            "cfc22e39db2f4c29a9f8fcc38cc645d1",
            "d63214672d884534a27dce7e6cb82483",
            "8e752ea05ebc4237ac44ebf0e2788d9f",
            "a643dc77e6e140c3a9eeec6735539a97",
            "52bb3ba6f46441fba18ec62db4b863dc",
            "f358707f6ee549dd8a934e93286d33e7",
            "9d83a1fd60b3479c9d9dab2a9b8438db",
            "4f4c60bac8334ae9ada15c932cd5fee6",
            "a803241910954ba5868d746781512b6c",
            "e109774a6ad1423fb764a92e23757178",
            "b793eee35fd545629da9b22a4b616774",
            "fc1d9c03bfc84c018268ed07cb4c5b1f",
            "f344e9904b3c4b2eba8e746575cb142a",
            "111d173a8f27464e9f0c75f21686c50c",
            "b33c947f340f4b21ae4cb4f3c08f03fc",
            "249690141def4c2f826e4d081d10e303",
            "b8a18b25b498430599e2df9b2b01c0ec",
            "d1efe237ade8483285a1b63576dbd80e",
            "a82915d59f874b5199cb307857b7e9e8",
            "a2a204d3e75f4d85a528c39ee2f352f4",
            "3cc05731e4c743f88964e851fdab5020",
            "331b49e247c7400d9156f58109ddfac4",
            "36dce9ba381240748bed07b627084c95",
            "5364ca51f5ba43acb4872ae249243900",
            "72f3b7ae55924f6faa0b683d6941b1c9",
            "da82656f7b834324908481bc1f4605b5",
            "9eb192c24c624803b6b84adff5cf94d0",
            "f0bd4f7c49bf437092756e068e73b47d",
            "53d53412aefe44cebe2110c2024555eb",
            "f46971d0e3214e93b6a017a86832cbeb",
            "b5ebba2a4ade4a65a2492ebfbd8139b7"
          ]
        },
        "id": "RoqTncE7TN0N",
        "outputId": "ace5928d-fc52-43de-dbac-3218953223a1"
      },
      "execution_count": null,
      "outputs": [
        {
          "output_type": "stream",
          "name": "stdout",
          "text": [
            "🚀 Iniciando o Sistema de Resumo de Notícias para Radar com 2 Agentes 🚀\n",
            "❓ Por favor, digite o TEMA sobre o qual você quer criar o resumo de notícias: gripe aviária\n",
            "🔎 Buscando notícias sobre: **gripe aviária**\n",
            "\n",
            "--- SELECIONE AS NOTÍCIAS RELEVANTES ---\n",
            "\n",
            "🗞️ Marque abaixo as notícias mais relevantes para serem resumidas:\n",
            "\n"
          ]
        },
        {
          "output_type": "display_data",
          "data": {
            "text/plain": [
              "VBox(children=(HBox(children=(Checkbox(value=False, indent=False, layout=Layout(width='20px')), VBox(children=…"
            ],
            "application/vnd.jupyter.widget-view+json": {
              "version_major": 2,
              "version_minor": 0,
              "model_id": "e31835715e3841d289fb923aaeb10755"
            }
          },
          "metadata": {}
        },
        {
          "output_type": "display_data",
          "data": {
            "text/plain": [
              "Button(description='Confirmar seleção', style=ButtonStyle())"
            ],
            "application/vnd.jupyter.widget-view+json": {
              "version_major": 2,
              "version_minor": 0,
              "model_id": "9eb192c24c624803b6b84adff5cf94d0"
            }
          },
          "metadata": {}
        },
        {
          "output_type": "display_data",
          "data": {
            "text/plain": [
              "Output()"
            ],
            "application/vnd.jupyter.widget-view+json": {
              "version_major": 2,
              "version_minor": 0,
              "model_id": "f46971d0e3214e93b6a017a86832cbeb"
            }
          },
          "metadata": {}
        }
      ]
    }
  ]
}